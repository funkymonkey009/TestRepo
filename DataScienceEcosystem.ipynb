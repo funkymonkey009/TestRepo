{
  "metadata": {
    "kernelspec": {
      "name": "python",
      "display_name": "Python (Pyodide)",
      "language": "python"
    },
    "language_info": {
      "codemirror_mode": {
        "name": "python",
        "version": 3
      },
      "file_extension": ".py",
      "mimetype": "text/x-python",
      "name": "python",
      "nbconvert_exporter": "python",
      "pygments_lexer": "ipython3",
      "version": "3.8"
    }
  },
  "nbformat_minor": 5,
  "nbformat": 4,
  "cells": [
    {
      "id": "8e50148d-5ca1-42ff-9717-c98219b27b73",
      "cell_type": "markdown",
      "source": "# Data Science Tools and Ecosystem",
      "metadata": {}
    },
    {
      "id": "81e960ee-6059-42d4-8b09-e5e2bfedac5c",
      "cell_type": "markdown",
      "source": "In this notebook, Data Science Tools and Ecosystem are summarized.",
      "metadata": {}
    },
    {
      "id": "e06fc679-6599-4ec6-98e6-c749b67a2acc",
      "cell_type": "markdown",
      "source": "# **Objectives:**\n+ List popular languages for Data Science\n+ List commonly used libraries in Data Science\n+ List popular Data Science tools\n+ Display basic arithmetic operations in Jupyter\n+ Display basic use of functions in Jupyter",
      "metadata": {}
    },
    {
      "id": "f247173b-a3ae-44b8-93be-b62cd97f871b",
      "cell_type": "markdown",
      "source": "## Some of the popular languages that Data Scientists use are:\n\n1. Julia\n2. Python\n3. R",
      "metadata": {}
    },
    {
      "id": "8c34dc5b-4965-492b-9822-dec975691f73",
      "cell_type": "markdown",
      "source": "## Some of the commonly used libraries used by Data Scientists include:\n\n1. Pandas\n2. TensorFlow\n3. NumPy\n4. Scikit-learn\n5. Matplotlib",
      "metadata": {}
    },
    {
      "id": "04c2984e-ba82-45f6-92de-9b8b2b24d1a3",
      "cell_type": "markdown",
      "source": "|Data Science Tools|\n|------------------|\n|RStudio|\n|Jupyter Notebook|\n|Apache Spark|\n",
      "metadata": {}
    },
    {
      "id": "c6b974b1-9856-4727-8621-da0230f9faec",
      "cell_type": "markdown",
      "source": "## Below are a few examples of evaluating arithmetic expressions in Python",
      "metadata": {}
    },
    {
      "id": "36536fed-cb8e-41ac-9f36-45698c228e3e",
      "cell_type": "code",
      "source": "#This a simple arithmetic expression to mutiply then add integers\n(3*4)+5",
      "metadata": {
        "trusted": true
      },
      "outputs": [
        {
          "execution_count": 1,
          "output_type": "execute_result",
          "data": {
            "text/plain": "17"
          },
          "metadata": {}
        }
      ],
      "execution_count": 1
    },
    {
      "id": "2d0712d3-1fa3-4d25-8d29-6bd9220f2481",
      "cell_type": "code",
      "source": "x = 200\ny = x / 60\n\nprint(f\"{x} minutes = {y:.2f} hours\")",
      "metadata": {
        "trusted": true
      },
      "outputs": [
        {
          "name": "stdout",
          "output_type": "stream",
          "text": "200 minutes = 3.33 hours\n"
        }
      ],
      "execution_count": 7
    },
    {
      "id": "f6387163-7469-414a-880d-b53efaad3f1f",
      "cell_type": "code",
      "source": "",
      "metadata": {
        "trusted": true
      },
      "outputs": [],
      "execution_count": null
    },
    {
      "id": "013ed5da-d527-4e5c-84eb-448f527867cb",
      "cell_type": "markdown",
      "source": "## Author\nGeorge Panitsas",
      "metadata": {}
    }
  ]
}